{
 "cells": [
  {
   "cell_type": "markdown",
   "metadata": {},
   "source": [
    "### Note\n",
    "* Instructions have been included for each segment. You do not have to follow them exactly, but they are included to help you think through the steps."
   ]
  },
  {
   "cell_type": "code",
   "execution_count": 280,
   "metadata": {},
   "outputs": [],
   "source": [
    "# Dependencies and Setup\n",
    "import pandas as pd\n",
    "import os \n",
    "\n",
    "# File to Load (Remember to Change These)\n",
    "school_data_to_load = os.path.join(\"Resources\", \"schools_complete.csv\")\n",
    "student_data_to_load = os.path.join(\"Resources\", \"students_complete.csv\")\n",
    "\n",
    "# Read School and Student Data File and store into Pandas Data Frames\n",
    "school_data = pd.read_csv(school_data_to_load)\n",
    "student_data = pd.read_csv(student_data_to_load)\n",
    "\n",
    "# Combine the data into a single dataset\n",
    "school_data_complete = pd.merge(student_data, school_data, how=\"left\", on=[\"school_name\", \"school_name\"])"
   ]
  },
  {
   "cell_type": "markdown",
   "metadata": {},
   "source": [
    "## District Summary\n",
    "\n",
    "* Calculate the total number of schools\n",
    "\n",
    "* Calculate the total number of students\n",
    "\n",
    "* Calculate the total budget\n",
    "\n",
    "* Calculate the average math score \n",
    "\n",
    "* Calculate the average reading score\n",
    "\n",
    "* Calculate the overall passing rate (overall average score), i.e. (avg. math score + avg. reading score)/2\n",
    "\n",
    "* Calculate the percentage of students with a passing math score (70 or greater)\n",
    "\n",
    "* Calculate the percentage of students with a passing reading score (70 or greater)\n",
    "\n",
    "* Create a dataframe to hold the above results\n",
    "\n",
    "* Optional: give the displayed data cleaner formatting"
   ]
  },
  {
   "cell_type": "code",
   "execution_count": 337,
   "metadata": {},
   "outputs": [],
   "source": [
    "#Determing data types\n",
    "school_data_complete = school_data_complete.sort_values(\"school_name\",ascending = True)"
   ]
  },
  {
   "cell_type": "code",
   "execution_count": 340,
   "metadata": {
    "scrolled": true
   },
   "outputs": [
    {
     "data": {
      "text/plain": [
       "15"
      ]
     },
     "execution_count": 340,
     "metadata": {},
     "output_type": "execute_result"
    }
   ],
   "source": [
    "#Finding total number of schools\n",
    "total_school_list = school_data_complete[\"school_name\"].nunique()\n",
    "total_school_list"
   ]
  },
  {
   "cell_type": "code",
   "execution_count": 302,
   "metadata": {},
   "outputs": [
    {
     "data": {
      "text/plain": [
       "39170"
      ]
     },
     "execution_count": 302,
     "metadata": {},
     "output_type": "execute_result"
    }
   ],
   "source": [
    "#Finding total number of students\n",
    "total_students = len(school_data_complete.index)\n",
    "total_students"
   ]
  },
  {
   "cell_type": "code",
   "execution_count": 303,
   "metadata": {},
   "outputs": [
    {
     "data": {
      "text/plain": [
       "24649428"
      ]
     },
     "execution_count": 303,
     "metadata": {},
     "output_type": "execute_result"
    }
   ],
   "source": [
    "#Calculating total budget\n",
    "total_budget = school_data_complete.iloc[:,10].unique().sum()\n",
    "total_budget\n"
   ]
  },
  {
   "cell_type": "code",
   "execution_count": 304,
   "metadata": {},
   "outputs": [
    {
     "data": {
      "text/plain": [
       "78.98537145774827"
      ]
     },
     "execution_count": 304,
     "metadata": {},
     "output_type": "execute_result"
    }
   ],
   "source": [
    "#Calculating average math score\n",
    "math_score = school_data_complete[\"math_score\"].sum()\n",
    "average_math_score = math_score / total_students\n",
    "average_math_score"
   ]
  },
  {
   "cell_type": "code",
   "execution_count": 305,
   "metadata": {},
   "outputs": [
    {
     "data": {
      "text/plain": [
       "81.87784018381414"
      ]
     },
     "execution_count": 305,
     "metadata": {},
     "output_type": "execute_result"
    }
   ],
   "source": [
    "#Calculating average reading score\n",
    "reading_score = school_data_complete[\"reading_score\"].sum()\n",
    "average_reading_score = reading_score / total_students\n",
    "average_reading_score"
   ]
  },
  {
   "cell_type": "code",
   "execution_count": 306,
   "metadata": {},
   "outputs": [
    {
     "data": {
      "text/plain": [
       "74.9808526933878"
      ]
     },
     "execution_count": 306,
     "metadata": {},
     "output_type": "execute_result"
    }
   ],
   "source": [
    "#Calculating average passing rate for math (>70)\n",
    "math_passing_count = school_data_complete[\"math_score\"][school_data_complete[\"math_score\"]>=70].count()\n",
    "math_passing_rate = (math_passing_count / total_students) * 100\n",
    "math_passing_rate"
   ]
  },
  {
   "cell_type": "code",
   "execution_count": 307,
   "metadata": {},
   "outputs": [
    {
     "data": {
      "text/plain": [
       "85.80546336482001"
      ]
     },
     "execution_count": 307,
     "metadata": {},
     "output_type": "execute_result"
    }
   ],
   "source": [
    "#Calculating average passing rate for reading (>=70)\n",
    "reading_passing_count = school_data_complete[\"reading_score\"][school_data_complete[\"reading_score\"]>=70].count()\n",
    "reading_passing_rate = (reading_passing_count / total_students) *100\n",
    "reading_passing_rate"
   ]
  },
  {
   "cell_type": "code",
   "execution_count": 308,
   "metadata": {},
   "outputs": [
    {
     "data": {
      "text/plain": [
       "80.39315802910392"
      ]
     },
     "execution_count": 308,
     "metadata": {},
     "output_type": "execute_result"
    }
   ],
   "source": [
    "#Calculating overall passing rate\n",
    "overall_passing_rate = (reading_passing_rate + math_passing_rate) / 2\n",
    "overall_passing_rate\n"
   ]
  },
  {
   "cell_type": "code",
   "execution_count": 341,
   "metadata": {},
   "outputs": [
    {
     "data": {
      "text/html": [
       "<div>\n",
       "<style scoped>\n",
       "    .dataframe tbody tr th:only-of-type {\n",
       "        vertical-align: middle;\n",
       "    }\n",
       "\n",
       "    .dataframe tbody tr th {\n",
       "        vertical-align: top;\n",
       "    }\n",
       "\n",
       "    .dataframe thead th {\n",
       "        text-align: right;\n",
       "    }\n",
       "</style>\n",
       "<table border=\"1\" class=\"dataframe\">\n",
       "  <thead>\n",
       "    <tr style=\"text-align: right;\">\n",
       "      <th></th>\n",
       "      <th>Total Schools</th>\n",
       "      <th>Total Students</th>\n",
       "      <th>Total Budget</th>\n",
       "      <th>Average Math Score</th>\n",
       "      <th>Average Reading Score</th>\n",
       "      <th>Math Passing Rate</th>\n",
       "      <th>Reading Passing Rate</th>\n",
       "      <th>Overall Passing Rate</th>\n",
       "    </tr>\n",
       "  </thead>\n",
       "  <tbody>\n",
       "    <tr>\n",
       "      <th>0</th>\n",
       "      <td>15</td>\n",
       "      <td>39,170</td>\n",
       "      <td>$24,649,428</td>\n",
       "      <td>78.99</td>\n",
       "      <td>81.88</td>\n",
       "      <td>74.98</td>\n",
       "      <td>85.81</td>\n",
       "      <td>80.39</td>\n",
       "    </tr>\n",
       "  </tbody>\n",
       "</table>\n",
       "</div>"
      ],
      "text/plain": [
       "   Total Schools Total Students Total Budget Average Math Score  \\\n",
       "0             15         39,170  $24,649,428              78.99   \n",
       "\n",
       "  Average Reading Score Math Passing Rate Reading Passing Rate  \\\n",
       "0                 81.88             74.98                85.81   \n",
       "\n",
       "  Overall Passing Rate  \n",
       "0                80.39  "
      ]
     },
     "execution_count": 341,
     "metadata": {},
     "output_type": "execute_result"
    }
   ],
   "source": [
    "#Creating a district summary DataFrame\n",
    "District_summary = pd.DataFrame({\"Total Schools\":[total_school_list], \n",
    "                                \"Total Students\":total_students,\n",
    "                                \"Total Budget\":total_budget,\n",
    "                                \"Average Math Score\":average_math_score, \n",
    "                                \"Average Reading Score\":average_reading_score,\n",
    "                                \"Math Passing Rate\":math_passing_rate,\n",
    "                                \"Reading Passing Rate\":reading_passing_rate,\n",
    "                                \"Overall Passing Rate\":overall_passing_rate})\n",
    "\n",
    "District_summary[\"Total Budget\"] = District_summary[\"Total Budget\"].map(\"${:,}\".format)\n",
    "District_summary[\"Total Students\"] = District_summary[\"Total Students\"].map(\"{:,}\".format)\n",
    "District_summary[\"Average Math Score\"] = District_summary[\"Average Math Score\"].map(\"{:.2f}\".format)\n",
    "District_summary[\"Average Reading Score\"] = District_summary[\"Average Reading Score\"].map(\"{:.2f}\".format)\n",
    "District_summary[\"Math Passing Rate\"] = District_summary[\"Math Passing Rate\"].map(\"{:.2f}\".format)\n",
    "District_summary[\"Reading Passing Rate\"] = District_summary[\"Reading Passing Rate\"].map(\"{:.2f}\".format)\n",
    "District_summary[\"Overall Passing Rate\"] = District_summary[\"Overall Passing Rate\"].map(\"{:.2f}\".format)\n",
    "\n",
    "District_summary"
   ]
  },
  {
   "cell_type": "markdown",
   "metadata": {},
   "source": [
    "## School Summary"
   ]
  },
  {
   "cell_type": "markdown",
   "metadata": {},
   "source": [
    "* Create an overview table that summarizes key metrics about each school, including:\n",
    "  * School Name\n",
    "  * School Type\n",
    "  * Total Students\n",
    "  * Total School Budget\n",
    "  * Per Student Budget\n",
    "  * Average Math Score\n",
    "  * Average Reading Score\n",
    "  * % Passing Math\n",
    "  * % Passing Reading\n",
    "  * Overall Passing Rate (Average of the above two)\n",
    "  \n",
    "* Create a dataframe to hold the above results"
   ]
  },
  {
   "cell_type": "code",
   "execution_count": 342,
   "metadata": {},
   "outputs": [],
   "source": [
    "#Calculating School Budgets\n",
    "school_budget = school_data_complete[\"budget\"].unique()\n",
    "# school_budget \n"
   ]
  },
  {
   "cell_type": "code",
   "execution_count": 343,
   "metadata": {},
   "outputs": [],
   "source": [
    "#Grouping the og dataframe by the school name\n",
    "group_by_school_name = school_data_complete.groupby(\"school_name\")\n",
    "# group_by_school_name"
   ]
  },
  {
   "cell_type": "code",
   "execution_count": 344,
   "metadata": {},
   "outputs": [],
   "source": [
    "#Finding students per school\n",
    "students_at_school = group_by_school_name[\"Student ID\"].count()\n",
    "# students_at_school"
   ]
  },
  {
   "cell_type": "code",
   "execution_count": 345,
   "metadata": {},
   "outputs": [],
   "source": [
    "#Finding average math school per school\n",
    "average_math_score_by_school = group_by_school_name[\"math_score\"].mean()\n",
    "# average_math_score_by_school"
   ]
  },
  {
   "cell_type": "code",
   "execution_count": 361,
   "metadata": {},
   "outputs": [
    {
     "ename": "TypeError",
     "evalue": "'>=' not supported between instances of 'SeriesGroupBy' and 'int'",
     "output_type": "error",
     "traceback": [
      "\u001b[0;31m---------------------------------------------------------------------------\u001b[0m",
      "\u001b[0;31mTypeError\u001b[0m                                 Traceback (most recent call last)",
      "\u001b[0;32m<ipython-input-361-018818fc0165>\u001b[0m in \u001b[0;36m<module>\u001b[0;34m\u001b[0m\n\u001b[0;32m----> 1\u001b[0;31m \u001b[0mmath_passing_count_by_school\u001b[0m \u001b[0;34m=\u001b[0m \u001b[0mgroup_by_school_name\u001b[0m\u001b[0;34m[\u001b[0m\u001b[0;34m\"math_score\"\u001b[0m\u001b[0;34m]\u001b[0m\u001b[0;34m>=\u001b[0m\u001b[0;36m70\u001b[0m\u001b[0;34m\u001b[0m\u001b[0;34m\u001b[0m\u001b[0m\n\u001b[0m\u001b[1;32m      2\u001b[0m \u001b[0mmath_passing_rate_by_school\u001b[0m \u001b[0;34m=\u001b[0m \u001b[0;34m(\u001b[0m\u001b[0mmath_passing_count_by_school\u001b[0m \u001b[0;34m/\u001b[0m \u001b[0mstudents_at_school\u001b[0m\u001b[0;34m)\u001b[0m \u001b[0;34m*\u001b[0m \u001b[0;36m100\u001b[0m\u001b[0;34m\u001b[0m\u001b[0;34m\u001b[0m\u001b[0m\n",
      "\u001b[0;31mTypeError\u001b[0m: '>=' not supported between instances of 'SeriesGroupBy' and 'int'"
     ]
    }
   ],
   "source": [
    "math_passing_count_by_school = group_by_school_name[\"math_score\"]>=70\n",
    "math_passing_rate_by_school = (math_passing_count_by_school / students_at_school) * 100"
   ]
  },
  {
   "cell_type": "code",
   "execution_count": 358,
   "metadata": {},
   "outputs": [],
   "source": [
    "#Finding average reading school per school\n",
    "average_reading_score_by_school = group_by_school_name[\"reading_score\"].mean()\n",
    "#average_reading_score_by_school"
   ]
  },
  {
   "cell_type": "code",
   "execution_count": 348,
   "metadata": {},
   "outputs": [],
   "source": [
    "#Calculating budget per student\n",
    "budget_per_student = school_budget / students_at_school"
   ]
  },
  {
   "cell_type": "code",
   "execution_count": 349,
   "metadata": {
    "scrolled": true
   },
   "outputs": [
    {
     "data": {
      "text/html": [
       "<div>\n",
       "<style scoped>\n",
       "    .dataframe tbody tr th:only-of-type {\n",
       "        vertical-align: middle;\n",
       "    }\n",
       "\n",
       "    .dataframe tbody tr th {\n",
       "        vertical-align: top;\n",
       "    }\n",
       "\n",
       "    .dataframe thead th {\n",
       "        text-align: right;\n",
       "    }\n",
       "</style>\n",
       "<table border=\"1\" class=\"dataframe\">\n",
       "  <thead>\n",
       "    <tr style=\"text-align: right;\">\n",
       "      <th></th>\n",
       "      <th>school_name</th>\n",
       "      <th>Budget</th>\n",
       "      <th>Students</th>\n",
       "      <th>Budget Per Student</th>\n",
       "      <th>Average Math Score</th>\n",
       "      <th>Average Reading Score</th>\n",
       "    </tr>\n",
       "  </thead>\n",
       "  <tbody>\n",
       "    <tr>\n",
       "      <th>0</th>\n",
       "      <td>Bailey High School</td>\n",
       "      <td>$3,124,928.00</td>\n",
       "      <td>4,976</td>\n",
       "      <td>$628.00</td>\n",
       "      <td>77.05</td>\n",
       "      <td>81.03</td>\n",
       "    </tr>\n",
       "    <tr>\n",
       "      <th>1</th>\n",
       "      <td>Cabrera High School</td>\n",
       "      <td>$1,081,356.00</td>\n",
       "      <td>1,858</td>\n",
       "      <td>$582.00</td>\n",
       "      <td>83.06</td>\n",
       "      <td>83.98</td>\n",
       "    </tr>\n",
       "    <tr>\n",
       "      <th>2</th>\n",
       "      <td>Figueroa High School</td>\n",
       "      <td>$1,884,411.00</td>\n",
       "      <td>2,949</td>\n",
       "      <td>$639.00</td>\n",
       "      <td>76.71</td>\n",
       "      <td>81.16</td>\n",
       "    </tr>\n",
       "    <tr>\n",
       "      <th>3</th>\n",
       "      <td>Ford High School</td>\n",
       "      <td>$1,763,916.00</td>\n",
       "      <td>2,739</td>\n",
       "      <td>$644.00</td>\n",
       "      <td>77.10</td>\n",
       "      <td>80.75</td>\n",
       "    </tr>\n",
       "    <tr>\n",
       "      <th>4</th>\n",
       "      <td>Griffin High School</td>\n",
       "      <td>$917,500.00</td>\n",
       "      <td>1,468</td>\n",
       "      <td>$625.00</td>\n",
       "      <td>83.35</td>\n",
       "      <td>83.82</td>\n",
       "    </tr>\n",
       "    <tr>\n",
       "      <th>5</th>\n",
       "      <td>Hernandez High School</td>\n",
       "      <td>$3,022,020.00</td>\n",
       "      <td>4,635</td>\n",
       "      <td>$652.00</td>\n",
       "      <td>77.29</td>\n",
       "      <td>80.93</td>\n",
       "    </tr>\n",
       "    <tr>\n",
       "      <th>6</th>\n",
       "      <td>Holden High School</td>\n",
       "      <td>$248,087.00</td>\n",
       "      <td>427</td>\n",
       "      <td>$581.00</td>\n",
       "      <td>83.80</td>\n",
       "      <td>83.81</td>\n",
       "    </tr>\n",
       "    <tr>\n",
       "      <th>7</th>\n",
       "      <td>Huang High School</td>\n",
       "      <td>$1,910,635.00</td>\n",
       "      <td>2,917</td>\n",
       "      <td>$655.00</td>\n",
       "      <td>76.63</td>\n",
       "      <td>81.18</td>\n",
       "    </tr>\n",
       "    <tr>\n",
       "      <th>8</th>\n",
       "      <td>Johnson High School</td>\n",
       "      <td>$3,094,650.00</td>\n",
       "      <td>4,761</td>\n",
       "      <td>$650.00</td>\n",
       "      <td>77.07</td>\n",
       "      <td>80.97</td>\n",
       "    </tr>\n",
       "    <tr>\n",
       "      <th>9</th>\n",
       "      <td>Pena High School</td>\n",
       "      <td>$585,858.00</td>\n",
       "      <td>962</td>\n",
       "      <td>$609.00</td>\n",
       "      <td>83.84</td>\n",
       "      <td>84.04</td>\n",
       "    </tr>\n",
       "    <tr>\n",
       "      <th>10</th>\n",
       "      <td>Rodriguez High School</td>\n",
       "      <td>$2,547,363.00</td>\n",
       "      <td>3,999</td>\n",
       "      <td>$637.00</td>\n",
       "      <td>76.84</td>\n",
       "      <td>80.74</td>\n",
       "    </tr>\n",
       "    <tr>\n",
       "      <th>11</th>\n",
       "      <td>Shelton High School</td>\n",
       "      <td>$1,056,600.00</td>\n",
       "      <td>1,761</td>\n",
       "      <td>$600.00</td>\n",
       "      <td>83.36</td>\n",
       "      <td>83.73</td>\n",
       "    </tr>\n",
       "    <tr>\n",
       "      <th>12</th>\n",
       "      <td>Thomas High School</td>\n",
       "      <td>$1,043,130.00</td>\n",
       "      <td>1,635</td>\n",
       "      <td>$638.00</td>\n",
       "      <td>83.42</td>\n",
       "      <td>83.85</td>\n",
       "    </tr>\n",
       "    <tr>\n",
       "      <th>13</th>\n",
       "      <td>Wilson High School</td>\n",
       "      <td>$1,319,574.00</td>\n",
       "      <td>2,283</td>\n",
       "      <td>$578.00</td>\n",
       "      <td>83.27</td>\n",
       "      <td>83.99</td>\n",
       "    </tr>\n",
       "    <tr>\n",
       "      <th>14</th>\n",
       "      <td>Wright High School</td>\n",
       "      <td>$1,049,400.00</td>\n",
       "      <td>1,800</td>\n",
       "      <td>$583.00</td>\n",
       "      <td>83.68</td>\n",
       "      <td>83.95</td>\n",
       "    </tr>\n",
       "  </tbody>\n",
       "</table>\n",
       "</div>"
      ],
      "text/plain": [
       "              school_name         Budget Students Budget Per Student  \\\n",
       "0      Bailey High School  $3,124,928.00    4,976            $628.00   \n",
       "1     Cabrera High School  $1,081,356.00    1,858            $582.00   \n",
       "2    Figueroa High School  $1,884,411.00    2,949            $639.00   \n",
       "3        Ford High School  $1,763,916.00    2,739            $644.00   \n",
       "4     Griffin High School    $917,500.00    1,468            $625.00   \n",
       "5   Hernandez High School  $3,022,020.00    4,635            $652.00   \n",
       "6      Holden High School    $248,087.00      427            $581.00   \n",
       "7       Huang High School  $1,910,635.00    2,917            $655.00   \n",
       "8     Johnson High School  $3,094,650.00    4,761            $650.00   \n",
       "9        Pena High School    $585,858.00      962            $609.00   \n",
       "10  Rodriguez High School  $2,547,363.00    3,999            $637.00   \n",
       "11    Shelton High School  $1,056,600.00    1,761            $600.00   \n",
       "12     Thomas High School  $1,043,130.00    1,635            $638.00   \n",
       "13     Wilson High School  $1,319,574.00    2,283            $578.00   \n",
       "14     Wright High School  $1,049,400.00    1,800            $583.00   \n",
       "\n",
       "   Average Math Score Average Reading Score  \n",
       "0               77.05                 81.03  \n",
       "1               83.06                 83.98  \n",
       "2               76.71                 81.16  \n",
       "3               77.10                 80.75  \n",
       "4               83.35                 83.82  \n",
       "5               77.29                 80.93  \n",
       "6               83.80                 83.81  \n",
       "7               76.63                 81.18  \n",
       "8               77.07                 80.97  \n",
       "9               83.84                 84.04  \n",
       "10              76.84                 80.74  \n",
       "11              83.36                 83.73  \n",
       "12              83.42                 83.85  \n",
       "13              83.27                 83.99  \n",
       "14              83.68                 83.95  "
      ]
     },
     "execution_count": 349,
     "metadata": {},
     "output_type": "execute_result"
    }
   ],
   "source": [
    "School_Summary_df = pd.DataFrame({\"Budget\":school_budget,\"Students\":students_at_school, \"Budget Per Student\": budget_per_student,\"Average Math Score\":average_math_score_by_school,\"Average Reading Score\":average_reading_score_by_school})\n",
    "\n",
    "School_Summary_df[\"Budget\"] = School_Summary_df[\"Budget\"].map(\"${:,.2f}\".format)\n",
    "School_Summary_df[\"Students\"] = School_Summary_df[\"Students\"].map(\"{:,}\".format)\n",
    "School_Summary_df[\"Budget Per Student\"] = School_Summary_df[\"Budget Per Student\"].map(\"${:,.2f}\".format)\n",
    "School_Summary_df[\"Average Math Score\"] = School_Summary_df[\"Average Math Score\"].map(\"{:.2f}\".format)\n",
    "School_Summary_df[\"Average Reading Score\"] = School_Summary_df[\"Average Reading Score\"].map(\"{:.2f}\".format)\n",
    "\n",
    "\n",
    "School_Summary_df.reset_index()"
   ]
  },
  {
   "cell_type": "markdown",
   "metadata": {},
   "source": [
    "## Top Performing Schools (By Passing Rate)"
   ]
  },
  {
   "cell_type": "markdown",
   "metadata": {},
   "source": [
    "* Sort and display the top five schools in overall passing rate"
   ]
  },
  {
   "cell_type": "code",
   "execution_count": null,
   "metadata": {},
   "outputs": [],
   "source": []
  },
  {
   "cell_type": "markdown",
   "metadata": {},
   "source": [
    "## Bottom Performing Schools (By Passing Rate)"
   ]
  },
  {
   "cell_type": "markdown",
   "metadata": {},
   "source": [
    "* Sort and display the five worst-performing schools"
   ]
  },
  {
   "cell_type": "code",
   "execution_count": null,
   "metadata": {},
   "outputs": [],
   "source": []
  },
  {
   "cell_type": "markdown",
   "metadata": {
    "collapsed": true
   },
   "source": [
    "## Math Scores by Grade"
   ]
  },
  {
   "cell_type": "markdown",
   "metadata": {},
   "source": [
    "* Create a table that lists the average Reading Score for students of each grade level (9th, 10th, 11th, 12th) at each school.\n",
    "\n",
    "  * Create a pandas series for each grade. Hint: use a conditional statement.\n",
    "  \n",
    "  * Group each series by school\n",
    "  \n",
    "  * Combine the series into a dataframe\n",
    "  \n",
    "  * Optional: give the displayed data cleaner formatting"
   ]
  },
  {
   "cell_type": "code",
   "execution_count": null,
   "metadata": {},
   "outputs": [],
   "source": []
  },
  {
   "cell_type": "markdown",
   "metadata": {},
   "source": [
    "## Reading Score by Grade "
   ]
  },
  {
   "cell_type": "markdown",
   "metadata": {},
   "source": [
    "* Perform the same operations as above for reading scores"
   ]
  },
  {
   "cell_type": "code",
   "execution_count": null,
   "metadata": {},
   "outputs": [],
   "source": []
  },
  {
   "cell_type": "markdown",
   "metadata": {},
   "source": [
    "## Scores by School Spending"
   ]
  },
  {
   "cell_type": "markdown",
   "metadata": {},
   "source": [
    "* Create a table that breaks down school performances based on average Spending Ranges (Per Student). Use 4 reasonable bins to group school spending. Include in the table each of the following:\n",
    "  * Average Math Score\n",
    "  * Average Reading Score\n",
    "  * % Passing Math\n",
    "  * % Passing Reading\n",
    "  * Overall Passing Rate (Average of the above two)"
   ]
  },
  {
   "cell_type": "code",
   "execution_count": null,
   "metadata": {},
   "outputs": [],
   "source": [
    "# Sample bins. Feel free to create your own bins.\n",
    "spending_bins = [0, 585, 615, 645, 675]\n",
    "group_names = [\"<$585\", \"$585-615\", \"$615-645\", \"$645-675\"]"
   ]
  },
  {
   "cell_type": "code",
   "execution_count": null,
   "metadata": {},
   "outputs": [],
   "source": []
  },
  {
   "cell_type": "markdown",
   "metadata": {},
   "source": [
    "## Scores by School Size"
   ]
  },
  {
   "cell_type": "markdown",
   "metadata": {},
   "source": [
    "* Perform the same operations as above, based on school size."
   ]
  },
  {
   "cell_type": "code",
   "execution_count": null,
   "metadata": {},
   "outputs": [],
   "source": [
    "# Sample bins. Feel free to create your own bins.\n",
    "size_bins = [0, 1000, 2000, 5000]\n",
    "group_names = [\"Small (<1000)\", \"Medium (1000-2000)\", \"Large (2000-5000)\"]"
   ]
  },
  {
   "cell_type": "code",
   "execution_count": null,
   "metadata": {
    "scrolled": true
   },
   "outputs": [],
   "source": []
  },
  {
   "cell_type": "markdown",
   "metadata": {},
   "source": [
    "## Scores by School Type"
   ]
  },
  {
   "cell_type": "markdown",
   "metadata": {},
   "source": [
    "* Perform the same operations as above, based on school type."
   ]
  },
  {
   "cell_type": "code",
   "execution_count": null,
   "metadata": {},
   "outputs": [],
   "source": []
  },
  {
   "cell_type": "code",
   "execution_count": null,
   "metadata": {},
   "outputs": [],
   "source": []
  }
 ],
 "metadata": {
  "anaconda-cloud": {},
  "kernel_info": {
   "name": "python3"
  },
  "kernelspec": {
   "display_name": "Python 3",
   "language": "python",
   "name": "python3"
  },
  "language_info": {
   "codemirror_mode": {
    "name": "ipython",
    "version": 3
   },
   "file_extension": ".py",
   "mimetype": "text/x-python",
   "name": "python",
   "nbconvert_exporter": "python",
   "pygments_lexer": "ipython3",
   "version": "3.6.10"
  },
  "latex_envs": {
   "LaTeX_envs_menu_present": true,
   "autoclose": false,
   "autocomplete": true,
   "bibliofile": "biblio.bib",
   "cite_by": "apalike",
   "current_citInitial": 1,
   "eqLabelWithNumbers": true,
   "eqNumInitial": 1,
   "hotkeys": {
    "equation": "Ctrl-E",
    "itemize": "Ctrl-I"
   },
   "labels_anchors": false,
   "latex_user_defs": false,
   "report_style_numbering": false,
   "user_envs_cfg": false
  },
  "nteract": {
   "version": "0.8.4"
  }
 },
 "nbformat": 4,
 "nbformat_minor": 1
}
